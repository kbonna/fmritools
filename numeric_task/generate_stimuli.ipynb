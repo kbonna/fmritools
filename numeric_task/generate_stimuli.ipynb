{
 "cells": [
  {
   "cell_type": "code",
   "execution_count": 1,
   "metadata": {},
   "outputs": [],
   "source": [
    "%reset -f"
   ]
  },
  {
   "cell_type": "markdown",
   "metadata": {},
   "source": [
    "### (A) Create all digit sequences with a specific numeric distance\n",
    "Here, all possible <b>unique</b> combinations of digits are created. All adjacent digits in ordered sequence (either increasing or decreasing) are separated by numeric disctance specified in `numdistances` (here 2 or 3). Digits are chosen from list `digits` (here all digits are considered, with zero as exception). Finally seqences are stored in:\n",
    "- `seqIn` list of increasing (ordered) sequences (<b>12 total</b>)\n",
    "- `seqDe` list of decreasing (ordered) sequences (<b>12 total</b>)\n",
    "- `seqNo` list of non-ordered sequences (<b>48 total</b>)\n",
    "\n",
    "Non-ordered sequences are constructed from increasing and decreasing sequences by permuting first two items or last two items. This procedure yields four non-ordered sequences for one pair of increasing/decreasing sequence."
   ]
  },
  {
   "cell_type": "code",
   "execution_count": 2,
   "metadata": {},
   "outputs": [],
   "source": [
    "from itertools import product\n",
    "\n",
    "#--- set available digits\n",
    "digits = [1, 2, 3, 4, 5, 6, 7, 8, 9]\n",
    "#--- set available numeric distances\n",
    "numdistances = [2, 3]\n",
    "\n",
    "#--- create all increasing sequences \n",
    "seqIn = []\n",
    "for ndpair in product(numdistances, repeat=2):\n",
    "    seqIn.extend([[dig, dig+ndpair[0], dig+ndpair[0]+ndpair[1]] for dig in digits if dig+ndpair[0]+ndpair[1] in digits])\n",
    "#--- create all decreasing sequences\n",
    "seqDe = [seq[::-1] for seq in seqIn]\n",
    "#--- create all non-ordered sequences\n",
    "seqNo = []\n",
    "for seqpair in zip(seqIn, seqDe):\n",
    "    seqNo.extend([[seqpair[0][0], seqpair[0][2], seqpair[0][1]],\n",
    "                  [seqpair[0][1], seqpair[0][0], seqpair[0][2]],\n",
    "                  [seqpair[1][0], seqpair[1][2], seqpair[1][1]],\n",
    "                  [seqpair[1][1], seqpair[1][0], seqpair[1][2]]])"
   ]
  },
  {
   "cell_type": "markdown",
   "metadata": {},
   "source": [
    "### (B) Divide stimuli list with respect to target inclusion\n",
    "This part of script specify target digit in control condition (where subject is asked to determine if target digit is present within a sequence or not). Target digit is specified in `target` variable. Here digit $4$ was chosen, due to its high occurrence frequency among all sequences (<b>7/16</b> in ordered sequences and <b>28/64</b> in non-ordered sequences). With digit $4$ it is possible to counterbalance presented sequences with respect to target occurrence.\n",
    "\n",
    "Three sequence groups are further divided into six groups – three containing target digit and three without target digit in a sequence. Groups are named:\n",
    "- `seqInTp` list of increasing (ordered) sequence containing target (<b>7 total</b>)\n",
    "- `seqInTn` list of increasing (ordered) sequence not containing target (<b>9 total</b>)\n",
    "- `seqDeTp` list of decreasing (ordered) sequence containing target (<b>7 total</b>)\n",
    "- `seqDeTn` list of decreasing (ordered) sequence not containing target (<b>9 total</b>)\n",
    "- `seqNoTp` list of non-ordered sequence containing target (<b>28 total</b>)\n",
    "- `seqNoTn` list of non-ordered (ordered) sequence not containing target (<b>36 total</b>)"
   ]
  },
  {
   "cell_type": "code",
   "execution_count": 3,
   "metadata": {},
   "outputs": [],
   "source": [
    "#--- set target number\n",
    "target = 4\n",
    "\n",
    "#--- divide sequences\n",
    "seqInTp = [seq for seq in seqIn if target in seq]\n",
    "seqInTn = [seq for seq in seqIn if target not in seq]\n",
    "seqDeTp = [seq for seq in seqDe if target in seq]\n",
    "seqDeTn = [seq for seq in seqDe if target not in seq]\n",
    "seqNoTp = [seq for seq in seqNo if target in seq]\n",
    "seqNoTn = [seq for seq in seqNo if target not in seq]    "
   ]
  },
  {
   "cell_type": "markdown",
   "metadata": {},
   "source": [
    "### (C) Create final stimuli lists\n",
    "This part of script draw sequences at random from appropriate lists. `N_block` sets of sequences (here 4) are created (one set per experimental block) with `N_seq` trials/block (12 trials/block). Types of sequences are counterbalanced so that <i>each block contains</i>:\n",
    "- 6 non-ordered sequences (3 with target and 3 w/o target)\n",
    "- 6 ordered sequences including:\n",
    "    - 3 increasing sequences (2 (or 1) with target and 1 (or 2) w/o target)\n",
    "    - 3 decreasing sequences (1 (or 2) with target and 2 (or 1) w/o target)\n",
    "\n",
    "Sequences are randomly shuffled before they are used for final sets. All sequences are unique, meaning that through entire experiment each sequence is always displayed twice (once for each task condition). Additional data is stored for further use in PsychoPy scripts and output logs:\n",
    "- `stimOrdr` contains information about type of sequence (increasing=1, decreasing=-1, non-ordered=0)\n",
    "- `stimTarg` contains information about target within a sequence (present=1, absent=0)\n",
    "- `stimNumd` contains information about total numeric distance for a given sequence (4, 5 or 6)"
   ]
  },
  {
   "cell_type": "code",
   "execution_count": 4,
   "metadata": {},
   "outputs": [],
   "source": [
    "from random import shuffle\n",
    "\n",
    "#--- number of blocks & sequences per block\n",
    "N_block = 4\n",
    "N_seq = 12\n",
    "\n",
    "def addtostim(seqList, block, num_stim, isOrder, isTarget):\n",
    "    for i in range(num_stim):\n",
    "        seq = seqList.pop()\n",
    "        stim[block].append(seq)\n",
    "        stimOrdr[block].append(isOrder)\n",
    "        stimTarg[block].append(isTarget)\n",
    "        stimNumd[block].append(numdist(seq))\n",
    "def numdist(seq):\n",
    "    return sorted(seq)[2]-sorted(seq)[0]\n",
    "\n",
    "#--- shuffle lists\n",
    "shuffle(seqInTp)\n",
    "shuffle(seqInTn)\n",
    "shuffle(seqDeTp)\n",
    "shuffle(seqDeTn)\n",
    "shuffle(seqNoTp)\n",
    "shuffle(seqNoTn)\n",
    "\n",
    "#--- draw stimuli\n",
    "stim = [[],[],[],[]]\n",
    "stimOrdr = [[],[],[],[]] # is sequence ordered? (1=increasing, -1=decreasing, 0=non-ordered)\n",
    "stimTarg = [[],[],[],[]] # does sequence contain target?\n",
    "stimNumd = [[],[],[],[]] # total numeric distance\n",
    "for block in range(N_block):\n",
    "    #--- Non-ordered\n",
    "    addtostim(seqNoTp, block, num_stim=3, isOrder=0, isTarget=1) # with target\n",
    "    addtostim(seqNoTn, block, num_stim=3, isOrder=0, isTarget=0) # with no target\n",
    "    #--- Ordered\n",
    "    addtostim(seqInTp, block, num_stim=(1 + (block+1) % 2), isOrder=1,  isTarget=1) # with target & increasing\n",
    "    addtostim(seqDeTp, block, num_stim=(1 + block % 2),     isOrder=-1, isTarget=1) # with target & decreasing\n",
    "    addtostim(seqInTn, block, num_stim=(1 + block % 2),     isOrder=1,  isTarget=0) # with no target & increasing\n",
    "    addtostim(seqDeTn, block, num_stim=(1 + (block+1) % 2), isOrder=-1, isTarget=0) # with no target & decreasing"
   ]
  },
  {
   "cell_type": "markdown",
   "metadata": {},
   "source": [
    "### (D) Concatenate blocks and save to one xlsx file\n",
    "Finally, sequences are concatenated into one table (Pandas dataframe) and saved as .xlsx spreadsheet under name specified in `stim_filename`. Additionaly, table is displayed within Notebook (see below)."
   ]
  },
  {
   "cell_type": "code",
   "execution_count": 5,
   "metadata": {},
   "outputs": [
    {
     "name": "stderr",
     "output_type": "stream",
     "text": [
      "/home/connectomics/anaconda3/lib/python3.6/importlib/_bootstrap.py:219: RuntimeWarning: numpy.dtype size changed, may indicate binary incompatibility. Expected 96, got 88\n",
      "  return f(*args, **kwds)\n",
      "/home/connectomics/anaconda3/lib/python3.6/importlib/_bootstrap.py:219: RuntimeWarning: numpy.dtype size changed, may indicate binary incompatibility. Expected 96, got 88\n",
      "  return f(*args, **kwds)\n"
     ]
    },
    {
     "name": "stdout",
     "output_type": "stream",
     "text": [
      "    block   sequence  isOrder  isTarget  numDist\n",
      "0       1  [7, 4, 9]        0         1        5\n",
      "1       1  [4, 2, 7]        0         1        5\n",
      "2       1  [4, 6, 1]        0         1        5\n",
      "3       1  [6, 3, 9]        0         0        6\n",
      "4       1  [5, 2, 7]        0         0        5\n",
      "5       1  [3, 8, 5]        0         0        5\n",
      "6       1  [2, 4, 6]        1         1        4\n",
      "7       1  [4, 6, 8]        1         1        4\n",
      "8       1  [9, 7, 4]       -1         1        5\n",
      "9       1  [5, 7, 9]        1         0        4\n",
      "10      1  [6, 3, 1]       -1         0        5\n",
      "11      1  [9, 6, 3]       -1         0        6\n",
      "12      2  [7, 2, 4]        0         1        5\n",
      "13      2  [4, 7, 1]        0         1        6\n",
      "14      2  [7, 9, 4]        0         1        5\n",
      "15      2  [8, 2, 5]        0         0        6\n",
      "16      2  [5, 7, 2]        0         0        5\n",
      "17      2  [3, 5, 1]        0         0        4\n",
      "18      2  [2, 4, 7]        1         1        5\n",
      "19      2  [8, 6, 4]       -1         1        4\n",
      "20      2  [9, 6, 4]       -1         1        5\n",
      "21      2  [3, 5, 7]        1         0        4\n",
      "22      2  [3, 6, 9]        1         0        6\n",
      "23      2  [7, 5, 2]       -1         0        5\n",
      "24      3  [4, 9, 6]        0         1        5\n",
      "25      3  [4, 2, 6]        0         1        4\n",
      "26      3  [6, 2, 4]        0         1        4\n",
      "27      3  [3, 1, 6]        0         0        5\n",
      "28      3  [1, 5, 3]        0         0        4\n",
      "29      3  [3, 6, 1]        0         0        5\n",
      "30      3  [1, 4, 6]        1         1        5\n",
      "31      3  [1, 4, 7]        1         1        6\n",
      "32      3  [6, 4, 1]       -1         1        5\n",
      "33      3  [1, 3, 5]        1         0        4\n",
      "34      3  [9, 7, 5]       -1         0        4\n",
      "35      3  [8, 5, 2]       -1         0        6\n",
      "36      4  [6, 4, 8]        0         1        4\n",
      "37      4  [4, 8, 6]        0         1        4\n",
      "38      4  [4, 1, 7]        0         1        6\n",
      "39      4  [5, 9, 7]        0         0        4\n",
      "40      4  [7, 2, 5]        0         0        5\n",
      "41      4  [5, 8, 3]        0         0        5\n",
      "42      4  [4, 7, 9]        1         1        5\n",
      "43      4  [6, 4, 2]       -1         1        4\n",
      "44      4  [7, 4, 2]       -1         1        5\n",
      "45      4  [2, 5, 7]        1         0        5\n",
      "46      4  [3, 5, 8]        1         0        5\n",
      "47      4  [8, 5, 3]       -1         0        5\n"
     ]
    }
   ],
   "source": [
    "import pandas as pd\n",
    "\n",
    "#--- set filename\n",
    "stim_filename = 'stimuli.xlsx'\n",
    "\n",
    "#--- concatenate variables for all blocks\n",
    "blockn = [n for n in range (1,N_block+1) for rep in range(N_seq)]   # set (block) number\n",
    "digitL = [seq[0] for stimblock in stim for seq in stimblock]        # left digit\n",
    "digitC = [seq[1] for stimblock in stim for seq in stimblock]        # central digit\n",
    "digitR = [seq[2] for stimblock in stim for seq in stimblock]        # right digit\n",
    "isOrder = [value for stimblock in stimOrdr for value in stimblock]  # is sequence ordered?\n",
    "isTarget = [value for stimblock in stimTarg for value in stimblock] # does it contain target?\n",
    "numDist = [value for stimblock in stimNumd for value in stimblock]  # total numeric distance\n",
    "\n",
    "#--- create dictionary\n",
    "d = {'block': blockn, 'digitL': digitL, 'digitC': digitC, 'digitR': digitR,\n",
    "     'isOrder': isOrder, 'isTarget': isTarget, 'numDist': numDist}\n",
    "#--- convert to dataframe\n",
    "df = pd.DataFrame(data=d)\n",
    "\n",
    "#--- save stimulis\n",
    "writer = pd.ExcelWriter(stim_filename, engine='xlsxwriter')\n",
    "df.to_excel(writer, sheet_name='Sheet1', index=False)\n",
    "writer.save()\n",
    "\n",
    "#--- show df\n",
    "digitLCR = [seq for stimblock in stim for seq in stimblock]\n",
    "dshow = {'block': blockn, 'sequence': digitLCR,\n",
    "         'isOrder': isOrder, 'isTarget': isTarget, 'numDist': numDist}\n",
    "df2 = pd.DataFrame(data=dshow)\n",
    "print(df2)"
   ]
  }
 ],
 "metadata": {
  "kernelspec": {
   "display_name": "Python 3",
   "language": "python",
   "name": "python3"
  },
  "language_info": {
   "codemirror_mode": {
    "name": "ipython",
    "version": 3
   },
   "file_extension": ".py",
   "mimetype": "text/x-python",
   "name": "python",
   "nbconvert_exporter": "python",
   "pygments_lexer": "ipython3",
   "version": "3.6.5"
  }
 },
 "nbformat": 4,
 "nbformat_minor": 2
}
