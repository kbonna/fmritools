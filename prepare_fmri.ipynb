{
 "cells": [
  {
   "cell_type": "markdown",
   "metadata": {},
   "source": [
    "#### (1.0) user settings\n",
    "* `path_project` : project folder containing data in BIDS format\n",
    "* `path_slicetiming_json`: json file containing SliceTiming field   "
   ]
  },
  {
   "cell_type": "code",
   "execution_count": null,
   "metadata": {},
   "outputs": [],
   "source": [
    "path_project = '/home/kamil/Desktop/Neuroscience/Projects/WD_fasting/'\n",
    "path_slicetiming_json = '/home/kamil/Desktop/Neuroscience/Projects/WD_fasting/code/WD_fasting_slicetiming.json'"
   ]
  },
  {
   "cell_type": "markdown",
   "metadata": {},
   "source": [
    "#### (1.1) append missing slice timing field to funcional json files within BIDS structure "
   ]
  },
  {
   "cell_type": "code",
   "execution_count": 41,
   "metadata": {},
   "outputs": [],
   "source": [
    "from kbtools import append_json\n",
    "import os\n",
    "\n",
    "json_list = []\n",
    "for path, subdirs, files in os.walk(path_project):\n",
    "    for name in files:\n",
    "        if 'bold.json' in name:\n",
    "            json_list.append(os.path.join(path, name))\n",
    "\n",
    "for file in json_list:\n",
    "    append_json(file, path_slicetiming_json)    "
   ]
  },
  {
   "cell_type": "markdown",
   "metadata": {},
   "source": [
    "#### (1.2) run standard preprocessing using fmriprep"
   ]
  },
  {
   "cell_type": "code",
   "execution_count": 29,
   "metadata": {},
   "outputs": [],
   "source": [
    "import os\n",
    "\n",
    "path_project_derivatives = path_project + '/derivatives'\n",
    "path_project_derivatives_interm = path_project_derivatives + '/intermediate' \n",
    "\n",
    "if not os.path.exists(path_project_derivatives_interm):\n",
    "    !mkdir $path_project_derivatives_interm\n",
    "\n",
    "#--- look for .bash environmental variable containing fsl license\n",
    "fsl_test = !echo ${FS_LICENSE:-False}    \n",
    "  \n",
    "#--- run preprocessing \n",
    "if fsl_test[0] == 'False':\n",
    "    fs_license_path = input('FSL license not found! Provide full path to fsl license')\n",
    "    !sudo fmriprep-docker $path_project $path_project_derivatives participant \\\n",
    "    --participant-label wd01 --longitudinal --use-aroma -w $path_project_derivatives_interm \\\n",
    "    --fs-license $fs_license_path\n",
    "else:\n",
    "    !sudo fmriprep-docker $path_project $path_project_derivatives participant \\\n",
    "    --participant-label wd01 --longitudinal --use-aroma -w $path_project_derivatives_interm"
   ]
  }
 ],
 "metadata": {
  "kernelspec": {
   "display_name": "Python 3",
   "language": "python",
   "name": "python3"
  },
  "language_info": {
   "codemirror_mode": {
    "name": "ipython",
    "version": 3
   },
   "file_extension": ".py",
   "mimetype": "text/x-python",
   "name": "python",
   "nbconvert_exporter": "python",
   "pygments_lexer": "ipython3",
   "version": "3.6.5"
  }
 },
 "nbformat": 4,
 "nbformat_minor": 2
}
